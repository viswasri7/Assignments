{
 "cells": [
  {
   "cell_type": "code",
   "execution_count": null,
   "id": "8b01cd21",
   "metadata": {},
   "outputs": [],
   "source": [
    "1. In the below elements which of them are values or an expression? eg:- values can be\n",
    "integer or string and expressions will be mathematical operators."
   ]
  },
  {
   "cell_type": "code",
   "execution_count": null,
   "id": "df3d6438",
   "metadata": {},
   "outputs": [],
   "source": [
    "* mathematical operator"
   ]
  },
  {
   "cell_type": "code",
   "execution_count": null,
   "id": "b3c5cfd7",
   "metadata": {},
   "outputs": [],
   "source": [
    "'hello' string"
   ]
  },
  {
   "cell_type": "code",
   "execution_count": null,
   "id": "8b9485ca",
   "metadata": {},
   "outputs": [],
   "source": [
    "-87.8 float"
   ]
  },
  {
   "cell_type": "code",
   "execution_count": null,
   "id": "ceae7b61",
   "metadata": {},
   "outputs": [],
   "source": [
    "- mathematical operator"
   ]
  },
  {
   "cell_type": "code",
   "execution_count": null,
   "id": "09cba580",
   "metadata": {},
   "outputs": [],
   "source": [
    "/ mathematical operator"
   ]
  },
  {
   "cell_type": "code",
   "execution_count": null,
   "id": "e9c0bd90",
   "metadata": {},
   "outputs": [],
   "source": [
    "+ mathematical operator"
   ]
  },
  {
   "cell_type": "code",
   "execution_count": null,
   "id": "45e8a04b",
   "metadata": {},
   "outputs": [],
   "source": [
    "6 integer"
   ]
  },
  {
   "cell_type": "code",
   "execution_count": null,
   "id": "d614f65b",
   "metadata": {},
   "outputs": [],
   "source": [
    "2. What is the difference between string and variable?"
   ]
  },
  {
   "cell_type": "code",
   "execution_count": null,
   "id": "2d6d440d",
   "metadata": {},
   "outputs": [],
   "source": [
    "String: A 'string' is a datatype which holds list of characters in order. String comprises of letters, words, integers, etc., for example s = ('e', 'laugh', '7')"
   ]
  },
  {
   "cell_type": "code",
   "execution_count": null,
   "id": "97257190",
   "metadata": {},
   "outputs": [],
   "source": [
    "A 'variable'holds a value that may change. for example x = 7654  "
   ]
  },
  {
   "cell_type": "code",
   "execution_count": null,
   "id": "f356bede",
   "metadata": {},
   "outputs": [],
   "source": [
    "3. Describe three different data types."
   ]
  },
  {
   "cell_type": "code",
   "execution_count": null,
   "id": "625b7c3e",
   "metadata": {},
   "outputs": [],
   "source": [
    "i. string: String is an array representing characters. It is a collection of characters put in a single quote, double quote. It is represented by str"
   ]
  },
  {
   "cell_type": "code",
   "execution_count": null,
   "id": "9c4100ea",
   "metadata": {},
   "outputs": [],
   "source": [
    "ii. list: List is also an array which comprises of numbers, float, boolean, string, etc., It is very flexible as the items in the list do not need to have same type. It is represented by list."
   ]
  },
  {
   "cell_type": "code",
   "execution_count": null,
   "id": "22277baa",
   "metadata": {},
   "outputs": [],
   "source": [
    "iii. tuple:Tuple can contain any number of elements with different data types (like strings, integers, etc.,) .The only difference between tuple and list is that tuples are immutable i.e. tuples cannot be modified after it is created. It is represented by tuple."
   ]
  },
  {
   "cell_type": "code",
   "execution_count": null,
   "id": "e8236490",
   "metadata": {},
   "outputs": [],
   "source": [
    "4. What is an expression made up of? What do all expressions do?"
   ]
  },
  {
   "cell_type": "code",
   "execution_count": null,
   "id": "20914aa8",
   "metadata": {},
   "outputs": [],
   "source": [
    "Expression comprises of mathematical operators, variable and values. They assign value to variable, represents it's value and gives the value when called."
   ]
  },
  {
   "cell_type": "code",
   "execution_count": null,
   "id": "5c5c5e04",
   "metadata": {},
   "outputs": [],
   "source": [
    "5. This assignment statements, like spam = 10. What is the difference between an\n",
    "expression and a statement?"
   ]
  },
  {
   "cell_type": "code",
   "execution_count": null,
   "id": "1e658166",
   "metadata": {},
   "outputs": [],
   "source": [
    "spam = 10 is a expression because an Expression always evaluates to a value. But the difference between expression and statement is like creating a variable or displaying a value, it only does whatever the statement says"
   ]
  },
  {
   "cell_type": "code",
   "execution_count": null,
   "id": "63e4dfda",
   "metadata": {},
   "outputs": [],
   "source": [
    "6. After running the following code, what does the variable bacon contain?\n",
    "bacon = 22\n",
    "bacon + 1"
   ]
  },
  {
   "cell_type": "code",
   "execution_count": 1,
   "id": "35edd801",
   "metadata": {},
   "outputs": [],
   "source": [
    "bacon = 22"
   ]
  },
  {
   "cell_type": "code",
   "execution_count": 2,
   "id": "5fb0c6d4",
   "metadata": {},
   "outputs": [
    {
     "data": {
      "text/plain": [
       "23"
      ]
     },
     "execution_count": 2,
     "metadata": {},
     "output_type": "execute_result"
    }
   ],
   "source": [
    "bacon + 1"
   ]
  },
  {
   "cell_type": "code",
   "execution_count": null,
   "id": "b4b846de",
   "metadata": {},
   "outputs": [],
   "source": [
    "7. What should the values of the following two terms be?\n",
    "'spam'+'spamspam' \n",
    "'spam'*3"
   ]
  },
  {
   "cell_type": "code",
   "execution_count": 3,
   "id": "4f278c1b",
   "metadata": {},
   "outputs": [
    {
     "data": {
      "text/plain": [
       "'spamspamspam'"
      ]
     },
     "execution_count": 3,
     "metadata": {},
     "output_type": "execute_result"
    }
   ],
   "source": [
    "'spam'+'spamspam'"
   ]
  },
  {
   "cell_type": "code",
   "execution_count": 4,
   "id": "b68a85a2",
   "metadata": {},
   "outputs": [
    {
     "data": {
      "text/plain": [
       "'spamspamspam'"
      ]
     },
     "execution_count": 4,
     "metadata": {},
     "output_type": "execute_result"
    }
   ],
   "source": [
    "'spam'*3"
   ]
  },
  {
   "cell_type": "code",
   "execution_count": null,
   "id": "c19b54e7",
   "metadata": {},
   "outputs": [],
   "source": [
    "8. Why is eggs a valid variable name while 100 is invalid?"
   ]
  },
  {
   "cell_type": "code",
   "execution_count": null,
   "id": "0515290b",
   "metadata": {},
   "outputs": [],
   "source": [
    "Term eggs is a word i.e., alphabetical whereas 100 is numerical which is invalid because when u run using numerical name the complier shows SyntaxError: cannot assign to literal"
   ]
  },
  {
   "cell_type": "code",
   "execution_count": null,
   "id": "4dda1f78",
   "metadata": {},
   "outputs": [],
   "source": [
    "9. What three functions can be used to get the integer, floating-point number, or string\n",
    "version of a value?"
   ]
  },
  {
   "cell_type": "code",
   "execution_count": null,
   "id": "4d2eca50",
   "metadata": {},
   "outputs": [],
   "source": [
    "The functions are integer - int() , floating-point number - float() , string - str(). "
   ]
  },
  {
   "cell_type": "code",
   "execution_count": null,
   "id": "4a6ffe12",
   "metadata": {},
   "outputs": [],
   "source": [
    "10. Why does this expression cause an error? How can you fix it?\n",
    "'I have eaten' + 99 +  'burritos.'"
   ]
  },
  {
   "cell_type": "code",
   "execution_count": null,
   "id": "f51af0c5",
   "metadata": {},
   "outputs": [],
   "source": [
    "99 is not quoted hence it shows error TypeError: can only concatenate str (not \"int\") to str. If we include quotes then expression executes answer as below."
   ]
  },
  {
   "cell_type": "code",
   "execution_count": 5,
   "id": "cd744faa",
   "metadata": {},
   "outputs": [
    {
     "data": {
      "text/plain": [
       "'I have eaten99burritos.'"
      ]
     },
     "execution_count": 5,
     "metadata": {},
     "output_type": "execute_result"
    }
   ],
   "source": [
    "'I have eaten' + '99' +  'burritos.'"
   ]
  },
  {
   "cell_type": "code",
   "execution_count": null,
   "id": "77decdf3",
   "metadata": {},
   "outputs": [],
   "source": []
  },
  {
   "cell_type": "code",
   "execution_count": null,
   "id": "2c69de29",
   "metadata": {},
   "outputs": [],
   "source": []
  },
  {
   "cell_type": "code",
   "execution_count": null,
   "id": "45e281f0",
   "metadata": {},
   "outputs": [],
   "source": []
  },
  {
   "cell_type": "code",
   "execution_count": null,
   "id": "3ed0d1e0",
   "metadata": {},
   "outputs": [],
   "source": []
  }
 ],
 "metadata": {
  "kernelspec": {
   "display_name": "Python 3 (ipykernel)",
   "language": "python",
   "name": "python3"
  },
  "language_info": {
   "codemirror_mode": {
    "name": "ipython",
    "version": 3
   },
   "file_extension": ".py",
   "mimetype": "text/x-python",
   "name": "python",
   "nbconvert_exporter": "python",
   "pygments_lexer": "ipython3",
   "version": "3.9.7"
  }
 },
 "nbformat": 4,
 "nbformat_minor": 5
}
